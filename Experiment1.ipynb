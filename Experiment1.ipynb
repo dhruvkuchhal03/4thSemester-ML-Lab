{
 "cells": [
  {
   "cell_type": "code",
   "execution_count": 1,
   "metadata": {},
   "outputs": [
    {
     "name": "stdout",
     "output_type": "stream",
     "text": [
      "10.0\n",
      "20\n",
      "(10+0j)\n",
      "<class 'float'>\n",
      "<class 'int'>\n",
      "<class 'complex'>\n"
     ]
    }
   ],
   "source": [
    "x = 10 # int\n",
    "y = 20.8 # float\n",
    "z = 10j # complex\n",
    "\n",
    "#convert from int to float: \n",
    "a = float(x)\n",
    "\n",
    "#convert from float to int: \n",
    "b = int(y)\n",
    "\n",
    "#convert from int to complex: \n",
    "c = complex(x)\n",
    "\n",
    "print(a) \n",
    "print(b) \n",
    "print(c)\n",
    "\n",
    "print(type(a)) \n",
    "print(type(b)) \n",
    "print(type(c))\n"
   ]
  },
  {
   "cell_type": "code",
   "execution_count": 2,
   "metadata": {},
   "outputs": [
    {
     "name": "stdout",
     "output_type": "stream",
     "text": [
      " String in multiple lines \n",
      "e\n",
      "a\n",
      "p\n",
      "p\n",
      "l\n",
      "e\n",
      "11\n",
      "True\n",
      "False\n",
      "llo\n",
      "Hello\n",
      "llo Buddy\n",
      "Bud\n",
      "HELLO, BUDDY!\n",
      "hello, buddy!\n",
      "Jello, Buddy!\n",
      "['Hello', ' Buddy!']\n"
     ]
    }
   ],
   "source": [
    "#Multiline strings \n",
    "a = \"\"\" String in multiple lines \"\"\" \n",
    "print(a)\n",
    "\n",
    "#String as arrays\n",
    "\n",
    "a = \"Hello Buddy\" \n",
    "print(a[1])\n",
    "\n",
    "#Looping through a string \n",
    "for x in \"apple\":\n",
    "    print(x) \n",
    "print(len(a))\n",
    "\n",
    "txt = \"The best things in life are free\"\n",
    "print(\"free\" in txt) #Word is present in a string or not \n",
    "print(\"best\" not in txt)\n",
    "b = \"Hello Buddy\"\n",
    "print(b[2:5])\t\t#Slicing of string \n",
    "print(b[:5])\t#Slicing from start\n",
    "print(b[2:])\t#Slice to the end \n",
    "print(b[-5:-2])\t\t#Negative indexing\n",
    "\n",
    "#String methods\n",
    "a = \"Hello, Buddy!\"\n",
    "print(a.upper())\t#Returns string in upper case\n",
    "\n",
    "a = \"Hello, Buddy!\"\n",
    "print(a.lower())\t#Return string in lower case\n",
    "\n",
    "a = \"Hello, Buddy!\"\n",
    "print(a.replace(\"H\", \"J\")) #Replace a string with another string\n",
    "\n",
    "a = \"Hello, Buddy!\"\n",
    "print(a.split(\",\"))\t#Split a string into substrings\n",
    "\n",
    "a = \"Hello\" \n",
    "b = \"Buddy\"\n",
    "c = a + b\t#String concatenation print(c)\n",
    "\n"
   ]
  },
  {
   "cell_type": "code",
   "execution_count": 3,
   "metadata": {},
   "outputs": [
    {
     "name": "stdout",
     "output_type": "stream",
     "text": [
      "True\n",
      "False\n",
      "False\n"
     ]
    }
   ],
   "source": [
    "print(10 > 8)\n",
    "print(10 == 8)\n",
    "print(10 < 8)\n"
   ]
  },
  {
   "cell_type": "code",
   "execution_count": 4,
   "metadata": {},
   "outputs": [
    {
     "name": "stdout",
     "output_type": "stream",
     "text": [
      "['apple', 'banana', 'orange', 'pineapple']\n",
      "4\n",
      "<class 'list'>\n",
      "['apple', 'banana', 'orange', 'pineapple', 'orange']\n",
      "['apple', 'orange', 'orange', 'pineapple']\n",
      "['apple', 'orange', 'orange', 'pineapple']\n"
     ]
    }
   ],
   "source": [
    "mylist = [\"apple\", \"banana\", \"orange\", \"pineapple\"] \n",
    "print(mylist)\n",
    "print(len(mylist)) \n",
    "print(type(mylist)) \n",
    "mylist.append(\"orange\") \n",
    "print(mylist) \n",
    "mylist.remove(\"banana\") \n",
    "mylist.sort() \n",
    "print(mylist)\n",
    "thislist = mylist.copy() \n",
    "print(thislist)\n"
   ]
  },
  {
   "cell_type": "code",
   "execution_count": 5,
   "metadata": {},
   "outputs": [
    {
     "name": "stdout",
     "output_type": "stream",
     "text": [
      "('apple', 'orange', 'cherry')\n",
      "3\n",
      "apple\n",
      "orange\n",
      "cherry\n"
     ]
    }
   ],
   "source": [
    "thistuple = (\"apple\", \"orange\", \"cherry\") \n",
    "print(thistuple)\n",
    "thistuple = (\"apple\", \"orange\", \"cherry\")\n",
    "print(len(thistuple))\t#print the length of the tuple\n",
    "\n",
    "thistuple = (\"apple\", \"orange\", \"cherry\")\n",
    "for x in thistuple:\t#Iterate through the \n",
    "    tuple   \n",
    "    print(x)\n"
   ]
  },
  {
   "cell_type": "code",
   "execution_count": 6,
   "metadata": {},
   "outputs": [
    {
     "name": "stdout",
     "output_type": "stream",
     "text": [
      "{'apple', 'cherry', 'orange'}\n",
      "{'banana', 'apple', 'cherry', 'orange'}\n",
      "{'apple', 'cherry', 'orange'}\n"
     ]
    }
   ],
   "source": [
    "thisset = {\"apple\", \"orange\", \"cherry\"} \n",
    "print(thisset)\n",
    "thisset.add(\"banana\")\t#add items to the set \n",
    "print(thisset)\n",
    "thisset.remove(\"banana\")\t#remove items from the set \n",
    "print(thisset)\n"
   ]
  },
  {
   "cell_type": "code",
   "execution_count": 7,
   "metadata": {},
   "outputs": [
    {
     "name": "stdout",
     "output_type": "stream",
     "text": [
      "{'brand': 'Ford', 'model': 'Mustang', 'year': 1964}\n",
      "{'brand': 'Ford', 'model': 'Mustang', 'year': 1964, 'color': 'red'}\n",
      "{'brand': 'Ford', 'year': 1964, 'color': 'red'}\n",
      "brand\n",
      "year\n",
      "color\n",
      "Ford\n",
      "1964\n",
      "red\n"
     ]
    }
   ],
   "source": [
    "thisdict = {\"brand\": \"Ford\",\"model\": \"Mustang\",\"year\": 1964} \n",
    "print(thisdict)\n",
    "\n",
    "thisdict[\"color\"] = \"red\"\t#add items to the dictionary \n",
    "print(thisdict)\n",
    "thisdict.pop(\"model\")\t#remove items from the dictionary \n",
    "print(thisdict)\n",
    "for x in thisdict:\t#Print all key names in dictionary \n",
    "    print(x)\n",
    "for x in thisdict:\t#print all the values in the dictionary \n",
    "    print(thisdict[x])\n"
   ]
  },
  {
   "cell_type": "code",
   "execution_count": 8,
   "metadata": {},
   "outputs": [
    {
     "name": "stdout",
     "output_type": "stream",
     "text": [
      "b is greater than a\n"
     ]
    }
   ],
   "source": [
    "# if-else Loop \n",
    "a = 33\n",
    "b = 500\n",
    "if b > a:\n",
    "    print(\"b is greater than a\")\n"
   ]
  }
 ],
 "metadata": {
  "interpreter": {
   "hash": "aee8b7b246df8f9039afb4144a1f6fd8d2ca17a180786b69acc140d282b71a49"
  },
  "kernelspec": {
   "display_name": "Python 3.11.1 64-bit",
   "language": "python",
   "name": "python3"
  },
  "language_info": {
   "codemirror_mode": {
    "name": "ipython",
    "version": 3
   },
   "file_extension": ".py",
   "mimetype": "text/x-python",
   "name": "python",
   "nbconvert_exporter": "python",
   "pygments_lexer": "ipython3",
   "version": "3.9.6"
  },
  "orig_nbformat": 4
 },
 "nbformat": 4,
 "nbformat_minor": 2
}
