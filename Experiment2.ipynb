{
 "cells": [
  {
   "cell_type": "code",
   "execution_count": 3,
   "metadata": {},
   "outputs": [
    {
     "name": "stdout",
     "output_type": "stream",
     "text": [
      "\n",
      "[[-0.87750986 -0.57177938  0.62828369 ...  0.57377804 -0.2196612\n",
      "  -0.30511629]\n",
      " [-1.15308534  0.62679248 -0.08362249 ... -0.17091545  0.00631402\n",
      "  -0.25423683]\n",
      " [ 1.26383162  0.98361214 -0.1198731  ...  0.13283995 -0.10128286\n",
      "  -0.32950779]\n",
      " ...\n",
      " [-0.38349503  0.77210803 -0.57499928 ... -0.00209668  0.01184758\n",
      "  -0.21662151]\n",
      " [ 0.05096267  0.91851362 -1.02985151 ... -0.08231776 -0.10081197\n",
      "   0.33333622]\n",
      " [-0.41989457 -0.30294167  0.45385207 ...  0.21715744  0.36857129\n",
      "  -0.29286006]]\n",
      "\n",
      "[[ 0.65238668 -0.16686457  0.64154241 ...  0.27172397  0.50280513\n",
      "  -0.19606009]\n",
      " [ 1.31372573 -0.18035885  0.56586861 ...  0.19283776  0.54777109\n",
      "  -0.34934352]\n",
      " [ 1.21343225 -0.82732765 -1.45828848 ...  0.7146577   1.36386022\n",
      "   0.02971246]\n",
      " ...\n",
      " [ 0.89086789  0.57407801 -1.38701874 ... -0.5986488  -0.02294377\n",
      "   1.99397392]\n",
      " [ 1.39073528  1.05455377  0.17341371 ... -0.2555804  -0.19207626\n",
      "  -0.34543281]\n",
      " [ 1.22637946  1.20109412 -0.80279701 ...  0.01953937 -0.16055905\n",
      "  -0.2968514 ]]\n",
      "\n",
      "[0 0 0 ... 0 0 0]\n",
      "\n",
      "[0 0 0 ... 0 0 0]\n"
     ]
    }
   ],
   "source": [
    "from sklearn.preprocessing import StandardScaler \n",
    "from sklearn.model_selection import train_test_split \n",
    "from sklearn.preprocessing import OneHotEncoder \n",
    "from sklearn.preprocessing import LabelEncoder \n",
    "from sklearn.impute import SimpleImputer \n",
    "\n",
    "import numpy as np \n",
    "import pandas as pd \n",
    "\n",
    "dataset = pd.read_csv('Experiment2_CreditCard.csv')\n",
    "\n",
    "x = dataset.drop('Class', axis=1).values \n",
    "y = dataset['Class'].values \n",
    "\n",
    "imputer = SimpleImputer(missing_values=np.nan, strategy='mean') \n",
    "imputer = imputer.fit(x[:, 1:3]) \n",
    "x[:, 1:3] = imputer.transform(x[:, 1:3]) \n",
    "\n",
    "sc_x = StandardScaler() \n",
    "x_train, x_test, y_train, y_test = train_test_split( x, y, test_size=.2, random_state=0) \n",
    "\n",
    "x_train = sc_x.fit_transform(x_train) \n",
    "x_test = sc_x.transform(x_test) \n",
    "\n",
    "print() \n",
    "print(x_train) \n",
    "print() \n",
    "print(x_test) \n",
    "print() \n",
    "print(y_train) \n",
    "print() \n",
    "print(y_test)\n"
   ]
  }
 ],
 "metadata": {
  "interpreter": {
   "hash": "b0fa6594d8f4cbf19f97940f81e996739fb7646882a419484c72d19e05852a7e"
  },
  "kernelspec": {
   "display_name": "Python 3.11.3 64-bit",
   "language": "python",
   "name": "python3"
  },
  "language_info": {
   "codemirror_mode": {
    "name": "ipython",
    "version": 3
   },
   "file_extension": ".py",
   "mimetype": "text/x-python",
   "name": "python",
   "nbconvert_exporter": "python",
   "pygments_lexer": "ipython3",
   "version": "3.9.6"
  },
  "orig_nbformat": 4
 },
 "nbformat": 4,
 "nbformat_minor": 2
}
